{
 "cells": [
  {
   "cell_type": "code",
   "execution_count": 15,
   "metadata": {},
   "outputs": [],
   "source": [
    "import arcpy\n",
    "import pandas as pd\n",
    "import arcpy"
   ]
  },
  {
   "cell_type": "markdown",
   "metadata": {},
   "source": [
    "## Set Filepaths"
   ]
  },
  {
   "cell_type": "code",
   "execution_count": 75,
   "metadata": {},
   "outputs": [],
   "source": [
    "arcpy.env.workspace = 'D:/GitHub/UDOT-Master-Segments/data/1_WF/Segments_WF_20230919/'\n",
    "\n",
    "wf_seg_shapefile = r'..\\data\\1_WF\\Segments_WF_20230919_PREPROCESSED\\Segments_WF - 2023-09-19.shp'\n",
    "subarea_shapefile = r'..\\data\\Subarea\\Subarea.shp'\n",
    "\n",
    "output_centroids = r'Centroids.shp'\n",
    "output_subarea_centroids = r'Centroids_with_Subarea.shp'\n",
    "output_wf_centroids = r'Centroids_within_Subarea1.shp'\n",
    "output_wf_segments = r'Segments_within_Subarea1.shp'\n",
    "output_wf_final_segments = r'Segments_WF_20230919.shp'"
   ]
  },
  {
   "cell_type": "markdown",
   "metadata": {},
   "source": [
    "## List of Duplicate SEGIDs"
   ]
  },
  {
   "cell_type": "code",
   "execution_count": 76,
   "metadata": {},
   "outputs": [
    {
     "name": "stdout",
     "output_type": "stream",
     "text": [
      "Empty DataFrame\n",
      "Columns: [SEGID]\n",
      "Index: []\n"
     ]
    }
   ],
   "source": [
    "fields = [\"SEGID\"]\n",
    "df = pd.DataFrame([row for row in arcpy.da.SearchCursor(wf_seg_shapefile, fields)])\n",
    "df.columns = fields  # Set column names\n",
    "\n",
    "# Identify duplicates based on the SEGID field\n",
    "duplicates = df[df.duplicated(subset=[\"SEGID\"], keep=False)]\n",
    "\n",
    "# Display the duplicates\n",
    "print(duplicates)"
   ]
  },
  {
   "cell_type": "markdown",
   "metadata": {},
   "source": [
    "## Clip to WF Subarea"
   ]
  },
  {
   "cell_type": "code",
   "execution_count": 78,
   "metadata": {},
   "outputs": [
    {
     "data": {
      "text/html": [
       "<div class='gpresult'><h2>Messages</h2><div id='messages' data-messages='[\"Start Time: Wednesday, September 20, 2023 3:14:41 PM\",\"Succeeded at Wednesday, September 20, 2023 3:14:41 PM (Elapsed Time: 0.13 seconds)\"]' data-show='true'><div id = 'default' /></div></div>"
      ],
      "text/plain": [
       "<Result 'D:/GitHub/UDOT-Master-Segments/data/1_WF/Segments_WF_20230919\\\\Segments_WF_20230919.shp'>"
      ]
     },
     "execution_count": 78,
     "metadata": {},
     "output_type": "execute_result"
    }
   ],
   "source": [
    "try:\n",
    "    # Perform FeatureToPoint to create centroids\n",
    "    arcpy.management.FeatureToPoint(wf_seg_shapefile, output_centroids, \"INSIDE\")\n",
    "    # Perform spatial join with centroids and subarea shapefile\n",
    "    arcpy.analysis.SpatialJoin(target_features=output_centroids, join_features=subarea_shapefile, out_feature_class=output_subarea_centroids, join_type=\"KEEP_COMMON\", match_option=\"WITHIN\")\n",
    "    \n",
    "     # Select centroids with SUBAREAID = 1\n",
    "    sql_expression = \"SUBAREAID = 1\"\n",
    "    arcpy.analysis.Select(output_subarea_centroids, output_wf_centroids, sql_expression)\n",
    "    \n",
    "    # Perform spatial join with clipped centroids and segments\n",
    "    arcpy.analysis.SpatialJoin(target_features=wf_seg_shapefile, join_features=output_wf_centroids, out_feature_class=output_wf_segments, join_type=\"KEEP_COMMON\", match_option=\"INTERSECT\")\n",
    "    \n",
    "    # Delete the intermediate files\n",
    "    arcpy.management.Delete(output_centroids)\n",
    "    arcpy.management.Delete(output_subarea_centroids)\n",
    "    arcpy.management.Delete(output_wf_centroids)\n",
    "    \n",
    "except arcpy.ExecuteError:\n",
    "    print(arcpy.GetMessages(2))\n",
    "except Exception as e:\n",
    "    print(str(e))\n",
    "    \n",
    "arcpy.management.Rename(output_wf_segments, output_wf_final_segments)"
   ]
  }
 ],
 "metadata": {
  "kernelspec": {
   "display_name": "ArcGISPro",
   "language": "Python",
   "name": "python3"
  },
  "language_info": {
   "file_extension": ".py",
   "name": "python",
   "version": "3"
  }
 },
 "nbformat": 4,
 "nbformat_minor": 2
}
