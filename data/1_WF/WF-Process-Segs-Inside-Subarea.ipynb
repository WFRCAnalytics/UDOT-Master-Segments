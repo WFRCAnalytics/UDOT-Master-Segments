{
 "cells": [
  {
   "cell_type": "code",
   "execution_count": 9,
   "metadata": {},
   "outputs": [],
   "source": [
    "import arcpy\n",
    "import pandas as pd\n",
    "import arcpy"
   ]
  },
  {
   "cell_type": "markdown",
   "metadata": {},
   "source": [
    "## Set Filepaths"
   ]
  },
  {
   "cell_type": "code",
   "execution_count": 10,
   "metadata": {},
   "outputs": [],
   "source": [
    "arcpy.env.workspace = 'D:/GitHub/UDOT-Master-Segments/data/1_WF/Segments_WF_20231101/'\n",
    "\n",
    "wf_seg_shapefile = r'..\\data\\1_WF\\Segments_WF_20231101_PREPROCESSED\\Segments_WF - 2023-11-01.shp'\n",
    "subarea_shapefile = r'..\\data\\Subarea\\Subarea.shp'\n",
    "\n",
    "output_centroids = r'Centroids.shp'\n",
    "output_subarea_centroids = r'Centroids_with_Subarea.shp'\n",
    "output_wf_centroids = r'Centroids_within_Subarea1.shp'\n",
    "output_wf_segments = r'Segments_within_Subarea1.shp'\n",
    "output_wf_final_segments = r'Segments_WF_20231101.shp'"
   ]
  },
  {
   "cell_type": "markdown",
   "metadata": {},
   "source": [
    "## List of Duplicate SEGIDs"
   ]
  },
  {
   "cell_type": "code",
   "execution_count": 11,
   "metadata": {},
   "outputs": [
    {
     "name": "stdout",
     "output_type": "stream",
     "text": [
      "Empty DataFrame\n",
      "Columns: [SEGID]\n",
      "Index: []\n"
     ]
    }
   ],
   "source": [
    "fields = [\"SEGID\"]\n",
    "df = pd.DataFrame([row for row in arcpy.da.SearchCursor(wf_seg_shapefile, fields)])\n",
    "df.columns = fields  # Set column names\n",
    "\n",
    "# Identify duplicates based on the SEGID field\n",
    "duplicates = df[df.duplicated(subset=[\"SEGID\"], keep=False)]\n",
    "\n",
    "# Display the duplicates\n",
    "print(duplicates)"
   ]
  },
  {
   "cell_type": "markdown",
   "metadata": {},
   "source": [
    "## Clip to WF Subarea"
   ]
  },
  {
   "cell_type": "code",
   "execution_count": 12,
   "metadata": {},
   "outputs": [
    {
     "data": {
      "text/html": [
       "<div class='gpresult'><h2>Messages</h2><div id='messages' data-messages='[\"Start Time: Wednesday, November 1, 2023 1:23:20 PM\",\"Succeeded at Wednesday, November 1, 2023 1:23:20 PM (Elapsed Time: 0.04 seconds)\"]' data-show='true'><div id = 'default' /></div></div>"
      ],
      "text/plain": [
       "<Result 'D:/GitHub/UDOT-Master-Segments/data/1_WF/Segments_WF_20231101\\\\Segments_WF_20231101.shp'>"
      ]
     },
     "execution_count": 12,
     "metadata": {},
     "output_type": "execute_result"
    }
   ],
   "source": [
    "try:\n",
    "    # Perform FeatureToPoint to create centroids\n",
    "    arcpy.management.FeatureToPoint(wf_seg_shapefile, output_centroids, \"INSIDE\")\n",
    "    # Perform spatial join with centroids and subarea shapefile\n",
    "    arcpy.analysis.SpatialJoin(target_features=output_centroids, join_features=subarea_shapefile, out_feature_class=output_subarea_centroids, join_type=\"KEEP_COMMON\", match_option=\"WITHIN\")\n",
    "    \n",
    "     # Select centroids with SUBAREAID = 1\n",
    "    sql_expression = \"SUBAREAID = 1\"\n",
    "    arcpy.analysis.Select(output_subarea_centroids, output_wf_centroids, sql_expression)\n",
    "    \n",
    "    # Perform spatial join with clipped centroids and segments\n",
    "    arcpy.analysis.SpatialJoin(target_features=wf_seg_shapefile, join_features=output_wf_centroids, out_feature_class=output_wf_segments, join_type=\"KEEP_COMMON\", match_option=\"INTERSECT\")\n",
    "    \n",
    "    # Delete fields with names containing \"_1\"\n",
    "    field_names = [field.name for field in arcpy.ListFields(output_wf_segments)]\n",
    "    fields_to_delete = [field for field in field_names if \"_1\" in field]\n",
    "    arcpy.management.DeleteField(output_wf_segments, fields_to_delete)\n",
    "\n",
    "    # Delete the intermediate files\n",
    "    arcpy.management.Delete(output_centroids)\n",
    "    arcpy.management.Delete(output_subarea_centroids)\n",
    "    arcpy.management.Delete(output_wf_centroids)\n",
    "    \n",
    "except arcpy.ExecuteError:\n",
    "    print(arcpy.GetMessages(2))\n",
    "except Exception as e:\n",
    "    print(str(e))\n",
    "    \n",
    "arcpy.management.Rename(output_wf_segments, output_wf_final_segments)"
   ]
  }
 ],
 "metadata": {
  "kernelspec": {
   "display_name": "ArcGISPro",
   "language": "Python",
   "name": "python3"
  },
  "language_info": {
   "file_extension": ".py",
   "name": "python",
   "version": "3"
  }
 },
 "nbformat": 4,
 "nbformat_minor": 2
}
