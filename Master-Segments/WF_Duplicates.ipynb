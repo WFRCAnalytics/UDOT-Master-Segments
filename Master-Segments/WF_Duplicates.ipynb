{
 "cells": [
  {
   "cell_type": "code",
   "execution_count": 88,
   "metadata": {},
   "outputs": [
    {
     "name": "stdout",
     "output_type": "stream",
     "text": [
      "           SEGID\n",
      "3768  1438_000.9\n",
      "4560  2040_007.2\n",
      "4800  2094_002.5\n",
      "4845  2107_003.5\n",
      "8600  1438_000.9\n",
      "8625  2107_003.5\n",
      "8626  2094_002.5\n",
      "8627  2040_007.2\n",
      "8667    UTA_7564\n",
      "8669    UTA_7572\n",
      "8670    UTA_7572\n",
      "8671    UTA_7576\n",
      "8672    UTA_7576\n",
      "8673    UTA_7564\n",
      "8674    UTA_7404\n",
      "8675    UTA_7404\n",
      "8682    UTA_7150\n",
      "8683    UTA_7150\n",
      "8688    UTA_7262\n",
      "8690    UTA_7250\n",
      "8691    UTA_7250\n",
      "8692    UTA_7250\n",
      "8693    UTA_7262\n",
      "8694    UTA_7262\n",
      "8696    UTA_7250\n",
      "8709    UTA_7300\n",
      "8711    UTA_7300\n",
      "8714    UTA_7120\n",
      "8715    UTA_7121\n",
      "8716    UTA_7120\n",
      "8718    UTA_7221\n",
      "8719    UTA_7221\n",
      "8720    UTA_7221\n",
      "8721    UTA_7121\n"
     ]
    }
   ],
   "source": [
    "import arcpy\n",
    "import pandas as pd\n",
    "# Read shapefile into a pandas DataFrame\n",
    "shapefile_path = r'D:\\GitHub\\WF-TDM-Official-Releases\\1_Inputs\\6_Segment\\Segments_WF - 2023-08-01.shp'\n",
    "fields = [\"SEGID\"]  # Replace with your field names\n",
    "df = pd.DataFrame([row for row in arcpy.da.SearchCursor(shapefile_path, fields)])\n",
    "df.columns = fields  # Set column names\n",
    "\n",
    "# Identify duplicates based on the SEGID field\n",
    "duplicates = df[df.duplicated(subset=[\"SEGID\"], keep=False)]\n",
    "\n",
    "# Display the duplicates\n",
    "print(duplicates)"
   ]
  }
 ],
 "metadata": {
  "kernelspec": {
   "display_name": "ArcGISPro",
   "language": "Python",
   "name": "python3"
  },
  "language_info": {
   "file_extension": ".py",
   "name": "python",
   "version": "3"
  }
 },
 "nbformat": 4,
 "nbformat_minor": 2
}
