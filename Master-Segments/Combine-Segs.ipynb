{
 "cells": [
  {
   "cell_type": "markdown",
   "metadata": {},
   "source": [
    "# Master Segment Shapefile"
   ]
  },
  {
   "cell_type": "markdown",
   "metadata": {},
   "source": [
    "The cells below join together the segment shapefiles of all the planning areas across Utah into one master segment shapefile. Please run the cells in order and follow the instructions as you go to ensure correct results."
   ]
  },
  {
   "cell_type": "code",
   "execution_count": 14,
   "metadata": {},
   "outputs": [],
   "source": [
    "# import libraries\n",
    "import pandas as pd\n",
    "import numpy as np\n",
    "import arcpy\n",
    "from arcgis.gis import *\n",
    "import datetime\n",
    "gis = GIS()\n",
    "\n",
    "arcpy.env.overwriteOutput = True\n",
    "#add multithreading in future version -- something like arcpy.env.parallel processing = %"
   ]
  },
  {
   "cell_type": "markdown",
   "metadata": {},
   "source": [
    "## Input Data"
   ]
  },
  {
   "cell_type": "markdown",
   "metadata": {},
   "source": [
    "Before getting started we need to gather each region's shapefile (USTM, Wasatch Front, Cache, Dixie, Summit Wasatch, and Iron). We also need a forecast area lookup file. Please update the paths below depending on their names and file locations."
   ]
  },
  {
   "cell_type": "code",
   "execution_count": 15,
   "metadata": {},
   "outputs": [],
   "source": [
    "# Set the workspace environment to the folder where the output shapefile will be stored\n",
    "arcpy.env.workspace = 'C:/Users/mshah/Documents/GitHub/UDOT-Master-Segments/outputs/'\n",
    "\n",
    "# List of input shapefile paths\n",
    "usPath = '../data/0_USTM_v3.0 - 2023-08-17_DRAFT/Segments_UD_20230729/Segments_UD_20220729b.shp'\n",
    "wfPath = '../data/1_WF/Segments_WF_20231101/Segments_WF_20231101.shp'\n",
    "caPath ='../data/2_Cache/Segments_CA_20231023/Segments_CA_20231023a.shp'\n",
    "dxPath ='../data/3_Dixie/Segments_DX_20220915b/Segments_DX_20220915b.shp'\n",
    "swPath ='../data/4_SuWsv2_2023-09-13_DRAFT/Segments_SW_20230913/Segments_SW_20230913.shp'\n",
    "irPath ='../data/5_IronCo - v1.0 - 2023-09-13_DRAFT/Segments_IR_20230912b/Segments_IR_20230912b.shp'\n",
    "\n",
    "# forecast area lookup file\n",
    "forecastPath = r'../data/cofips_subareaid_forecastarea.csv'"
   ]
  },
  {
   "cell_type": "markdown",
   "metadata": {},
   "source": [
    "Now that you have the location of each segment shapefile please visually inspect if all the shapefiles meet the following criteria\n",
    "\n",
    " 1. Each shapefile only includes those segments whose centroid falls within their corresponding subarea.\n",
    " 2. Each shapefile includes a SUBAREAID field that is correct.\n",
    " \n",
    "You may want to manually add the counties and subarea polygon layers to help with visual inspection.\n",
    "\n",
    "If any of the shapefiles do not meet the criteria, you must fix that shapefile before moving forward. Below is an example of how to add subareaid to the cache and iron shapefiles."
   ]
  },
  {
   "cell_type": "code",
   "execution_count": 16,
   "metadata": {},
   "outputs": [
    {
     "data": {
      "text/html": [
       "<div class='gpresult'><h2>Messages</h2><div id='messages' data-messages='[\"Start Time: Monday, December 18, 2023 4:49:29 PM\",\"Succeeded at Monday, December 18, 2023 4:49:29 PM (Elapsed Time: 0.14 seconds)\"]' data-show='true'><div id = 'default' /></div></div>"
      ],
      "text/plain": [
       "<Result '../data/5_IronCo - v1.0 - 2023-09-13_DRAFT/Segments_IR_20230912b/Segments_IR_20230912c.shp'>"
      ]
     },
     "execution_count": 16,
     "metadata": {},
     "output_type": "execute_result"
    }
   ],
   "source": [
    "# The CacheCo Segment file does not include a SUBAREAID column, so we add one:\n",
    "caPathNew = caPath.replace('a.shp', 'b.shp')\n",
    "arcpy.management.CopyFeatures(caPath, caPathNew)\n",
    "arcpy.management.AddField(caPathNew, \"SUBAREAID\", \"SHORT\")\n",
    "arcpy.management.CalculateField(caPathNew, \"SUBAREAID\", 2)\n",
    "\n",
    "# The IronCo Segment file does not include a SUBAREAID column, so we add one: \n",
    "irPathNew = irPath.replace('b.shp', 'c.shp')\n",
    "arcpy.management.CopyFeatures(irPath, irPathNew)\n",
    "arcpy.management.AddField(irPathNew, \"SUBAREAID\", \"SHORT\")\n",
    "arcpy.management.CalculateField(irPathNew, \"SUBAREAID\", 5)"
   ]
  },
  {
   "cell_type": "markdown",
   "metadata": {},
   "source": [
    "Once the shapefiles have been vizually inspected and fixed to meet the criteria, create a list of all the input shapefiles to be merged together and processed."
   ]
  },
  {
   "cell_type": "code",
   "execution_count": 17,
   "metadata": {},
   "outputs": [],
   "source": [
    "# List of input shapefile paths\n",
    "shpPaths = [\n",
    "    usPath,\n",
    "    wfPath,\n",
    "    caPathNew, #notice the updated path\n",
    "    dxPath,\n",
    "    swPath,\n",
    "    irPathNew #notice the updated path\n",
    "]"
   ]
  },
  {
   "cell_type": "markdown",
   "metadata": {},
   "source": [
    "## Merge Segments"
   ]
  },
  {
   "cell_type": "markdown",
   "metadata": {},
   "source": [
    "Now that all segment shapefiles have the correct segments and their subareaid is correct, we can move forward by merging them together."
   ]
  },
  {
   "cell_type": "code",
   "execution_count": 18,
   "metadata": {},
   "outputs": [
    {
     "data": {
      "text/html": [
       "<div class='gpresult'><h2>Messages</h2><div id='messages' data-messages='[\"Start Time: Monday, December 18, 2023 4:49:41 PM\",\"Succeeded at Monday, December 18, 2023 4:49:44 PM (Elapsed Time: 3.31 seconds)\"]' data-show='true'><div id = 'default' /></div></div>"
      ],
      "text/plain": [
       "<Result '..\\\\intermediate\\\\Merged_Segments.shp'>"
      ]
     },
     "execution_count": 18,
     "metadata": {},
     "output_type": "execute_result"
    }
   ],
   "source": [
    "# Output merged shapefile path\n",
    "inputShp = '../intermediate/Merged_Segments.shp'\n",
    "\n",
    "# Use arcpy.management.Merge with FieldMappings to merge the shapefiles\n",
    "fieldMappings = arcpy.FieldMappings()\n",
    "fieldMappings.mergeRule = 'Join'\n",
    "arcpy.management.Merge(shpPaths, inputShp, fieldMappings)"
   ]
  },
  {
   "cell_type": "markdown",
   "metadata": {},
   "source": [
    "We now check the CRS and for duplicate SEGIDS within the merged file. If the crs is not correct, or if duplicate SEGIDs exist, we must fix those before performing the other steps. This fixing should be done to the individual subarea segment shapefiles instead of as a whole here. \n",
    "\n",
    "(Technically these checks should be performed individually for each segment shapefile before this script, but we double check here anyway)"
   ]
  },
  {
   "cell_type": "markdown",
   "metadata": {},
   "source": [
    "### Check CRS"
   ]
  },
  {
   "cell_type": "code",
   "execution_count": 19,
   "metadata": {},
   "outputs": [
    {
     "name": "stdout",
     "output_type": "stream",
     "text": [
      "Coordinate System: NAD_1983_UTM_Zone_12N\n"
     ]
    }
   ],
   "source": [
    "try:\n",
    "    # Use arcpy.Describe to get information about the shapefile\n",
    "    desc = arcpy.Describe(inputShp)\n",
    "    \n",
    "    # Check if the shapefile has a spatial reference (projection)\n",
    "    if desc.spatialReference is not None:\n",
    "        # Get the name of the coordinate system\n",
    "        coordinate_system_name = desc.spatialReference.name\n",
    "        \n",
    "        # Print the coordinate system information\n",
    "        print(f\"Coordinate System: {coordinate_system_name}\")\n",
    "    else:\n",
    "        print(\"The shapefile does not have a defined coordinate system.\")\n",
    "except arcpy.ExecuteError:\n",
    "    print(arcpy.GetMessages(2))\n",
    "except Exception as e:\n",
    "    print(str(e))"
   ]
  },
  {
   "cell_type": "markdown",
   "metadata": {},
   "source": [
    "### Check for Duplicates"
   ]
  },
  {
   "cell_type": "code",
   "execution_count": 20,
   "metadata": {},
   "outputs": [
    {
     "name": "stdout",
     "output_type": "stream",
     "text": [
      "No duplicate SEGIDs found in Merged_Segments.shp.\n"
     ]
    }
   ],
   "source": [
    "# Create a set to store unique SEGID values\n",
    "uniqueSegIDs = set()\n",
    "\n",
    "# Create a list to store duplicate SEGID values\n",
    "duplicateSegIDs = []\n",
    "\n",
    "# Use a SearchCursor to iterate through the SEGID field\n",
    "with arcpy.da.SearchCursor(inputShp, ['SEGID']) as cursor:\n",
    "    for row in cursor:\n",
    "        segid = row[0]\n",
    "        if segid in uniqueSegIDs:\n",
    "            duplicateSegIDs.append(segid)\n",
    "        else:\n",
    "            uniqueSegIDs.add(segid)\n",
    "\n",
    "# Check if there are any duplicate SEGIDs\n",
    "if len(duplicateSegIDs) > 0:\n",
    "    print(\"Duplicate SEGIDs found in Merged_Segments.shp:\")\n",
    "    for segid in duplicateSegIDs:\n",
    "        print(segid)\n",
    "else:\n",
    "    print(\"No duplicate SEGIDs found in Merged_Segments.shp.\")"
   ]
  },
  {
   "cell_type": "markdown",
   "metadata": {},
   "source": [
    "## Prepare Final Output"
   ]
  },
  {
   "cell_type": "markdown",
   "metadata": {},
   "source": [
    "Within the following cells, we clean up the fields of the merged segment file. This includes selecting the necessary fields as well as recalculating certain fields to ensure they are correct."
   ]
  },
  {
   "cell_type": "markdown",
   "metadata": {},
   "source": [
    "### Select Fields"
   ]
  },
  {
   "cell_type": "code",
   "execution_count": 21,
   "metadata": {},
   "outputs": [
    {
     "name": "stdout",
     "output_type": "stream",
     "text": [
      "Columns deleted successfully.\n"
     ]
    }
   ],
   "source": [
    "# Specify the input shapefile path\n",
    "fields_to_keep = ['FID', 'Shape', 'SEGID', 'PLANAREA', 'SUBAREAID', 'BMP','EMP', 'AADT2019', 'DISTANCE']# 'DISTANCE', 'CO_FIPS', 'FAC_WDAVG', 'FAC_SPR', 'FAC_SUM', 'FAC_FAL', 'FAC_WIN']\n",
    "outputShp = r'../intermediate/Merged_Segments.shp'\n",
    "\n",
    "try:  \n",
    "    # Delete unwanted fields from the copied shapefile\n",
    "    fields_to_delete = [field.name for field in arcpy.ListFields(outputShp) if field.name not in fields_to_keep]\n",
    "    arcpy.management.DeleteField(outputShp, fields_to_delete)\n",
    "\n",
    "    print(\"Columns deleted successfully.\")\n",
    "except arcpy.ExecuteError:\n",
    "    print(arcpy.GetMessages(2))\n",
    "except Exception as e:\n",
    "    print(str(e))"
   ]
  },
  {
   "cell_type": "markdown",
   "metadata": {},
   "source": [
    "### Recalculate Distance"
   ]
  },
  {
   "cell_type": "markdown",
   "metadata": {},
   "source": [
    "Although the DISTANCE Field already exists in the dataset, we need to recalculate it to ensure all SEGIDs in the state have a correct value. The following code does just that by adding the DISTANCE field to the shapefile."
   ]
  },
  {
   "cell_type": "code",
   "execution_count": 23,
   "metadata": {},
   "outputs": [
    {
     "name": "stdout",
     "output_type": "stream",
     "text": [
      "DISTANCE field calculated successfully.\n",
      "    DISTANCE\n",
      "0   0.666642\n",
      "1   15.36987\n",
      "2  30.002021\n",
      "3  14.194335\n",
      "4  17.323272\n"
     ]
    }
   ],
   "source": [
    "# Specify the input shapefile path and other variables\n",
    "outputShp = r'C:/Users/mshah/Documents/GitHub/UDOT-Master-Segments/intermediate/Merged_Segments.shp'\n",
    "\n",
    "try:\n",
    "    # calculate distance using the length function\n",
    "    arcpy.management.CalculateGeometryAttributes(outputShp, \"DISTANCE LENGTH\", '', \"SQUARE_METERS\")\n",
    "    arcpy.management.CalculateField(outputShp, \"DISTANCE\", \"!DISTANCE! * 0.000621371192\", \"PYTHON3\")\n",
    "    \n",
    "    # print statements for checking\n",
    "    distanceField = \"DISTANCE\"\n",
    "    print(f\"{distanceField} field calculated successfully.\")\n",
    "    df = pd.DataFrame.spatial.from_featureclass(outputShp)\n",
    "    print(df[['DISTANCE']].head(5))\n",
    "    \n",
    "except arcpy.ExecuteError:\n",
    "    print(arcpy.GetMessages(2))\n",
    "except Exception as e:\n",
    "    print(str(e))"
   ]
  },
  {
   "cell_type": "markdown",
   "metadata": {},
   "source": [
    "### Recalculate CO_FIPS"
   ]
  },
  {
   "cell_type": "markdown",
   "metadata": {},
   "source": [
    "Similar to the DISTANCE FIELD, although CO_FIPS already exists, we need to calculate it again to ensure it is correct."
   ]
  },
  {
   "cell_type": "code",
   "execution_count": 24,
   "metadata": {},
   "outputs": [],
   "source": [
    "# Read in county boundaries from UGRC Website as well as intermediate shapefiles\n",
    "countyShp = r'../data/Utah_County_Boundaries/Counties.shp'\n",
    "copyShp = r'../intermediate/Copy_Segments.shp'\n",
    "outputShp = r'../intermediate/Merged_Segments.shp'\n",
    "int_centroids = r'../intermediate/Centroids.shp'\n",
    "int_cofip_centroids = r'../intermediate/Centroids_with_CO_FIPS.shp'\n",
    "\n",
    "# Specify the input shapefile path\n",
    "co_fields_to_keep = ['FID', 'Shape', 'SEGID', 'PLANAREA', 'DISTANCE','SUBAREAID', 'BMP','EMP', 'AADT2019', 'FIPS']\n",
    "\n",
    "# Create a new shapefile by copying the target shapefile\n",
    "arcpy.CopyFeatures_management(outputShp,copyShp)\n",
    "\n",
    "try: \n",
    "    # Perform FeatureToPoint to create centroids\n",
    "    arcpy.management.FeatureToPoint(copyShp, int_centroids, \"INSIDE\")\n",
    "    \n",
    "    # Perform spatial join with centroids and subarea shapefile\n",
    "    arcpy.analysis.SpatialJoin(target_features=int_centroids, join_features=countyShp, out_feature_class=int_cofip_centroids, join_type=\"KEEP_COMMON\", match_option=\"WITHIN\")\n",
    "   \n",
    "    # Perform spatial join with clipped centroids and segments\n",
    "    arcpy.analysis.SpatialJoin(target_features=copyShp, join_features=int_cofip_centroids, out_feature_class=outputShp, join_type=\"KEEP_COMMON\", match_option=\"INTERSECT\")\n",
    "    \n",
    "    # Delete unwanted fields from the copied shapefile\n",
    "    co_fields_to_delete = [field.name for field in arcpy.ListFields(outputShp) if field.name not in co_fields_to_keep]\n",
    "    if co_fields_to_delete:\n",
    "        arcpy.management.DeleteField(outputShp, co_fields_to_delete)\n",
    "\n",
    "    # Delete the intermediate files\n",
    "    #arcpy.management.Delete(copyShp)\n",
    "    arcpy.management.Delete(int_centroids)\n",
    "    arcpy.management.Delete(int_cofip_centroids)\n",
    "    \n",
    "except arcpy.ExecuteError:\n",
    "    print(arcpy.GetMessages(2))\n",
    "except Exception as e:\n",
    "    print(str(e))"
   ]
  },
  {
   "cell_type": "markdown",
   "metadata": {},
   "source": [
    "### Manual Overrides"
   ]
  },
  {
   "cell_type": "markdown",
   "metadata": {},
   "source": [
    "There are a few segments that need some manual overridding. (if any are missing, please add them and adjust the code to handle it) \n",
    " - DIXIE_5134 should be SUBAREAID 3 and CO_FIPS should be 53\n",
    " - 1822_000.0 should be SUBAREAID 1 and CO_FIPS should be 49"
   ]
  },
  {
   "cell_type": "code",
   "execution_count": 25,
   "metadata": {},
   "outputs": [
    {
     "data": {
      "text/html": [
       "<div class='gpresult'><h2>Messages</h2><div id='messages' data-messages='[\"Start Time: Monday, December 18, 2023 4:56:26 PM\",\"Succeeded at Monday, December 18, 2023 4:56:26 PM (Elapsed Time: 0.06 seconds)\"]' data-show='true'><div id = 'default' /></div></div>"
      ],
      "text/plain": [
       "<Result 'true'>"
      ]
     },
     "execution_count": 25,
     "metadata": {},
     "output_type": "execute_result"
    }
   ],
   "source": [
    "# Define the input shapefiles\n",
    "copyShp = r'../intermediate/Copy_Segments.shp'  # Source shapefile with the specific segment\n",
    "outputShp = r'../intermediate/Merged_Segments.shp'\n",
    "outputShpDixie = r'../intermediate/Dixie_Segment.shp'\n",
    "\n",
    "# Create a feature layer and apply a SQL query to select the desired row\n",
    "arcpy.management.MakeFeatureLayer(copyShp, \"Temp_Layer\")\n",
    "arcpy.management.SelectLayerByAttribute(\"Temp_Layer\", \"NEW_SELECTION\", \"SEGID = 'Dixie_5134'\")\n",
    "\n",
    "# Copy the selected features to a new shapefile\n",
    "arcpy.management.CopyFeatures(\"Temp_Layer\", outputShpDixie)\n",
    "arcpy.management.Delete(\"Temp_Layer\")\n",
    "\n",
    "# Manually Calculate the fields for Dixie_5134\n",
    "arcpy.management.AddField(outputShpDixie, \"FIPS\", \"SHORT\")\n",
    "arcpy.management.CalculateField(outputShpDixie, \"SUBAREAID\", 3)\n",
    "arcpy.management.CalculateField(outputShpDixie, \"FIPS\", 53)\n",
    "\n",
    "# Use the Append tool to merge the Dixie segment onto the shapefile with all other segments\n",
    "arcpy.management.Append(outputShpDixie, outputShp, \"NO_TEST\")\n",
    "\n",
    "# Delete Dixie Segment & Copy Segment\n",
    "arcpy.management.Delete(outputShpDixie)\n",
    "arcpy.management.Delete(copyShp)"
   ]
  },
  {
   "cell_type": "markdown",
   "metadata": {},
   "source": [
    "### Calculate Forecast Area"
   ]
  },
  {
   "cell_type": "markdown",
   "metadata": {},
   "source": [
    "Here we calculate the forecast area based on a lookup csv table."
   ]
  },
  {
   "cell_type": "code",
   "execution_count": 26,
   "metadata": {},
   "outputs": [],
   "source": [
    "# Define the input feature layer (shapefile)\n",
    "outputShp = r'../intermediate/Merged_Segments.shp'\n",
    "\n",
    "# Add the new field to the shapefile\n",
    "new_field_name = 'F_KEY'\n",
    "arcpy.AddField_management(outputShp, new_field_name, 'TEXT')\n",
    "\n",
    "# Calculate the values in the new field based on the expression\n",
    "expression = \"\"\"str(!SUBAREAID!) + '_' + str(!FIPS!).split('.')[0]\"\"\"\n",
    "arcpy.CalculateField_management(outputShp, new_field_name, expression, 'PYTHON3')\n",
    "\n",
    "# Perform the join between the shapefile and the CSV file\n",
    "join_field = 'F_KEY'\n",
    "arcpy.JoinField_management(outputShp, join_field, forecastPath, join_field)        \n",
    "\n",
    "# Delete unwanted fields from the copied shapefile\n",
    "f_fields_to_keep = ['FID', 'Shape', 'SEGID', 'PLANAREA', 'DISTANCE','SUBAREAID', 'BMP','EMP', 'AADT2019', 'CO_FIPS', 'F_AREA']\n",
    "f_fields_to_delete = [field.name for field in arcpy.ListFields(outputShp) if field.name not in f_fields_to_keep]\n",
    "if f_fields_to_delete:\n",
    "    arcpy.management.DeleteField(outputShp, f_fields_to_delete)\n"
   ]
  },
  {
   "cell_type": "markdown",
   "metadata": {},
   "source": [
    "## Pandas Double Check"
   ]
  },
  {
   "cell_type": "markdown",
   "metadata": {},
   "source": [
    "Now that we did all the processing, lets double check that nothing looks fishy using pandas."
   ]
  },
  {
   "cell_type": "code",
   "execution_count": 27,
   "metadata": {},
   "outputs": [],
   "source": [
    "# we should also do a 'pandas' check were we make sure every value from every field has data that that data isn't wrong\n",
    "inputShp = r'../intermediate/Merged_Segments.shp'\n",
    "df_merged = pd.DataFrame.spatial.from_featureclass(inputShp)\n",
    "df_merged = df_merged.drop(columns={'SHAPE'})"
   ]
  },
  {
   "cell_type": "code",
   "execution_count": 28,
   "metadata": {},
   "outputs": [
    {
     "name": "stdout",
     "output_type": "stream",
     "text": [
      "False\n"
     ]
    }
   ],
   "source": [
    "# check if there are any na values\n",
    "print(df_merged.isna().any().any())"
   ]
  },
  {
   "cell_type": "code",
   "execution_count": 29,
   "metadata": {},
   "outputs": [
    {
     "data": {
      "text/html": [
       "<div>\n",
       "<style scoped>\n",
       "    .dataframe tbody tr th:only-of-type {\n",
       "        vertical-align: middle;\n",
       "    }\n",
       "\n",
       "    .dataframe tbody tr th {\n",
       "        vertical-align: top;\n",
       "    }\n",
       "\n",
       "    .dataframe thead th {\n",
       "        text-align: right;\n",
       "    }\n",
       "</style>\n",
       "<table border=\"1\" class=\"dataframe\">\n",
       "  <thead>\n",
       "    <tr style=\"text-align: right;\">\n",
       "      <th></th>\n",
       "      <th>FID</th>\n",
       "      <th>BMP</th>\n",
       "      <th>EMP</th>\n",
       "      <th>DISTANCE</th>\n",
       "      <th>AADT2019</th>\n",
       "      <th>SUBAREAID</th>\n",
       "      <th>CO_FIPS</th>\n",
       "    </tr>\n",
       "  </thead>\n",
       "  <tbody>\n",
       "    <tr>\n",
       "      <th>count</th>\n",
       "      <td>8716.0</td>\n",
       "      <td>8716.0</td>\n",
       "      <td>8716.0</td>\n",
       "      <td>8716.0</td>\n",
       "      <td>8716.0</td>\n",
       "      <td>8716.0</td>\n",
       "      <td>8716.0</td>\n",
       "    </tr>\n",
       "    <tr>\n",
       "      <th>mean</th>\n",
       "      <td>4357.5</td>\n",
       "      <td>26.777619</td>\n",
       "      <td>28.384945</td>\n",
       "      <td>1.752572</td>\n",
       "      <td>9440.789123</td>\n",
       "      <td>1.146397</td>\n",
       "      <td>34.473153</td>\n",
       "    </tr>\n",
       "    <tr>\n",
       "      <th>std</th>\n",
       "      <td>2516.236807</td>\n",
       "      <td>75.986861</td>\n",
       "      <td>76.177823</td>\n",
       "      <td>3.569012</td>\n",
       "      <td>20164.178718</td>\n",
       "      <td>1.208746</td>\n",
       "      <td>16.912874</td>\n",
       "    </tr>\n",
       "    <tr>\n",
       "      <th>min</th>\n",
       "      <td>0.0</td>\n",
       "      <td>0.0</td>\n",
       "      <td>0.0</td>\n",
       "      <td>0.025089</td>\n",
       "      <td>0.0</td>\n",
       "      <td>0.0</td>\n",
       "      <td>1.0</td>\n",
       "    </tr>\n",
       "    <tr>\n",
       "      <th>25%</th>\n",
       "      <td>2178.75</td>\n",
       "      <td>0.0</td>\n",
       "      <td>0.8775</td>\n",
       "      <td>0.371951</td>\n",
       "      <td>500.0</td>\n",
       "      <td>0.0</td>\n",
       "      <td>21.0</td>\n",
       "    </tr>\n",
       "    <tr>\n",
       "      <th>50%</th>\n",
       "      <td>4357.5</td>\n",
       "      <td>1.5265</td>\n",
       "      <td>2.879</td>\n",
       "      <td>0.648408</td>\n",
       "      <td>2917.5</td>\n",
       "      <td>1.0</td>\n",
       "      <td>35.0</td>\n",
       "    </tr>\n",
       "    <tr>\n",
       "      <th>75%</th>\n",
       "      <td>6536.25</td>\n",
       "      <td>7.94425</td>\n",
       "      <td>10.581</td>\n",
       "      <td>1.376615</td>\n",
       "      <td>10967.0</td>\n",
       "      <td>1.0</td>\n",
       "      <td>49.0</td>\n",
       "    </tr>\n",
       "    <tr>\n",
       "      <th>max</th>\n",
       "      <td>8715.0</td>\n",
       "      <td>499.375</td>\n",
       "      <td>502.577</td>\n",
       "      <td>55.338206</td>\n",
       "      <td>287320.0</td>\n",
       "      <td>5.0</td>\n",
       "      <td>57.0</td>\n",
       "    </tr>\n",
       "  </tbody>\n",
       "</table>\n",
       "</div>"
      ],
      "text/plain": [
       "               FID        BMP        EMP  ...      AADT2019  SUBAREAID    CO_FIPS\n",
       "count       8716.0     8716.0     8716.0  ...        8716.0     8716.0     8716.0\n",
       "mean        4357.5  26.777619  28.384945  ...   9440.789123   1.146397  34.473153\n",
       "std    2516.236807  75.986861  76.177823  ...  20164.178718   1.208746  16.912874\n",
       "min            0.0        0.0        0.0  ...           0.0        0.0        1.0\n",
       "25%        2178.75        0.0     0.8775  ...         500.0        0.0       21.0\n",
       "50%         4357.5     1.5265      2.879  ...        2917.5        1.0       35.0\n",
       "75%        6536.25    7.94425     10.581  ...       10967.0        1.0       49.0\n",
       "max         8715.0    499.375    502.577  ...      287320.0        5.0       57.0\n",
       "\n",
       "[8 rows x 7 columns]"
      ]
     },
     "execution_count": 29,
     "metadata": {},
     "output_type": "execute_result"
    }
   ],
   "source": [
    "# some basic checks\n",
    "df_merged.describe()"
   ]
  },
  {
   "cell_type": "markdown",
   "metadata": {},
   "source": [
    "## Final Shapefile"
   ]
  },
  {
   "cell_type": "markdown",
   "metadata": {},
   "source": [
    "Now that our merged segment shapefile file looks good and is double checked, we can output it into the outputs folder."
   ]
  },
  {
   "cell_type": "code",
   "execution_count": 30,
   "metadata": {},
   "outputs": [
    {
     "data": {
      "text/html": [
       "<div class='gpresult'><h2>Messages</h2><div id='messages' data-messages='[\"Start Time: Monday, December 18, 2023 4:57:51 PM\",\"Succeeded at Monday, December 18, 2023 4:57:53 PM (Elapsed Time: 1.48 seconds)\"]' data-show='true'><div id = 'default' /></div></div>"
      ],
      "text/plain": [
       "<Result 'C:/Users/mshah/Documents/GitHub/UDOT-Master-Segments/outputs/Final_Segments.shp'>"
      ]
     },
     "execution_count": 30,
     "metadata": {},
     "output_type": "execute_result"
    }
   ],
   "source": [
    "# output final merged segment file\n",
    "inputShp = r'../intermediate/Merged_Segments.shp'\n",
    "outputShp = r'Final_Segments'\n",
    "\n",
    "arcpy.CopyFeatures_management(inputShp, outputShp)\n",
    "    "
   ]
  }
 ],
 "metadata": {
  "kernelspec": {
   "display_name": "ArcGISPro",
   "language": "Python",
   "name": "python3"
  },
  "language_info": {
   "file_extension": ".py",
   "name": "python",
   "version": "3"
  }
 },
 "nbformat": 4,
 "nbformat_minor": 2
}
