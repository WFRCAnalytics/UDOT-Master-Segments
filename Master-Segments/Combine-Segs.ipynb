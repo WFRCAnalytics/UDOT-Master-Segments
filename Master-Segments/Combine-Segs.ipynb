{
 "cells": [
  {
   "cell_type": "code",
   "execution_count": 80,
   "metadata": {},
   "outputs": [],
   "source": [
    "import pandas as pd\n",
    "#import matplotlib.ticker as mtick\n",
    "import numpy as np\n",
    "import arcpy\n",
    "from arcgis.gis import *\n",
    "gis = GIS()"
   ]
  },
  {
   "cell_type": "markdown",
   "metadata": {},
   "source": [
    "## Set Filepaths"
   ]
  },
  {
   "cell_type": "code",
   "execution_count": 81,
   "metadata": {},
   "outputs": [],
   "source": [
    "# Set the workspace environment to the folder where the output shapefile will be stored\n",
    "arcpy.env.workspace = 'D:/GitHub/UDOT-Master-Segments/outputs/'\n",
    "\n",
    "# Output merged shapefile path\n",
    "joinShp = 'Merged_Segments.shp'\n",
    "\n",
    "# List of input shapefile paths\n",
    "shpPaths = [\n",
    "    '../data/0_USTM_v3.0 - 2023-08-17_DRAFT/Segments_UD_20230729/Segments_UD_20220729b.shp',\n",
    "    '../data/2_Cache/Segments_CA_20230302/Segments_CA_20230302.shp',\n",
    "    '../data/3_Dixie/Segments_DX_20220915b/Segments_DX_20220915b.shp',\n",
    "    '../data/4_SuWsv2_2023-09-13_DRAFT/Segments_SW_20230913/Segments_SW_20230913.shp',\n",
    "    '../data/5_IronCo - v1.0 - 2023-09-13_DRAFT/Segments_IR_20230912b/Segments_IR_20230912b.shp'\n",
    "]"
   ]
  },
  {
   "cell_type": "markdown",
   "metadata": {},
   "source": [
    "## Trim Segment Shapefiles"
   ]
  },
  {
   "cell_type": "code",
   "execution_count": null,
   "metadata": {},
   "outputs": [],
   "source": [
    "# make sure each shapefile includes ONLY those segments that pertain to their subarea"
   ]
  },
  {
   "cell_type": "markdown",
   "metadata": {},
   "source": [
    "## Merge Segments"
   ]
  },
  {
   "cell_type": "code",
   "execution_count": 82,
   "metadata": {},
   "outputs": [
    {
     "data": {
      "text/html": [
       "<div class='gpresult'><h2>Messages</h2><div id='messages' data-messages='[\"Start Time: Tuesday, September 19, 2023 1:17:35 PM\",\"Succeeded at Tuesday, September 19, 2023 1:17:37 PM (Elapsed Time: 2.34 seconds)\"]' data-show='true'><div id = 'default' /></div></div>"
      ],
      "text/plain": [
       "<Result 'D:/GitHub/UDOT-Master-Segments/outputs\\\\Merged_Segments.shp'>"
      ]
     },
     "execution_count": 82,
     "metadata": {},
     "output_type": "execute_result"
    }
   ],
   "source": [
    "# Use arcpy.management.Merge with FieldMappings to merge the shapefiles\n",
    "fieldMappings = arcpy.FieldMappings()\n",
    "fieldMappings.mergeRule = 'Join'\n",
    "arcpy.management.Merge(shpPaths, joinShp, fieldMappings)"
   ]
  },
  {
   "cell_type": "markdown",
   "metadata": {},
   "source": [
    "## Check CRS"
   ]
  },
  {
   "cell_type": "code",
   "execution_count": 86,
   "metadata": {},
   "outputs": [
    {
     "name": "stdout",
     "output_type": "stream",
     "text": [
      "Coordinate System: NAD_1983_UTM_Zone_12N\n"
     ]
    }
   ],
   "source": [
    "try:\n",
    "    # Use arcpy.Describe to get information about the shapefile\n",
    "    desc = arcpy.Describe(joinShp)\n",
    "    \n",
    "    # Check if the shapefile has a spatial reference (projection)\n",
    "    if desc.spatialReference is not None:\n",
    "        # Get the name of the coordinate system\n",
    "        coordinate_system_name = desc.spatialReference.name\n",
    "        \n",
    "        # Print the coordinate system information\n",
    "        print(f\"Coordinate System: {coordinate_system_name}\")\n",
    "    else:\n",
    "        print(\"The shapefile does not have a defined coordinate system.\")\n",
    "except arcpy.ExecuteError:\n",
    "    print(arcpy.GetMessages(2))\n",
    "except Exception as e:\n",
    "    print(str(e))"
   ]
  },
  {
   "cell_type": "markdown",
   "metadata": {},
   "source": [
    "## Check for Duplicates"
   ]
  },
  {
   "cell_type": "code",
   "execution_count": 83,
   "metadata": {},
   "outputs": [
    {
     "name": "stdout",
     "output_type": "stream",
     "text": [
      "No duplicate SEGIDs found in Merged_Segments.shp.\n"
     ]
    }
   ],
   "source": [
    "# Create a set to store unique SEGID values\n",
    "uniqueSegIDs = set()\n",
    "\n",
    "# Create a list to store duplicate SEGID values\n",
    "duplicateSegIDs = []\n",
    "\n",
    "# Use a SearchCursor to iterate through the SEGID field\n",
    "with arcpy.da.SearchCursor(joinShp, ['SEGID']) as cursor:\n",
    "    for row in cursor:\n",
    "        segid = row[0]\n",
    "        if segid in uniqueSegIDs:\n",
    "            duplicateSegIDs.append(segid)\n",
    "        else:\n",
    "            uniqueSegIDs.add(segid)\n",
    "\n",
    "# Check if there are any duplicate SEGIDs\n",
    "if len(duplicateSegIDs) > 0:\n",
    "    print(\"Duplicate SEGIDs found in Merged_Segments.shp:\")\n",
    "    for segid in duplicateSegIDs:\n",
    "        print(segid)\n",
    "else:\n",
    "    print(\"No duplicate SEGIDs found in Merged_Segments.shp.\")"
   ]
  },
  {
   "cell_type": "markdown",
   "metadata": {},
   "source": [
    "## Selecting Necessary Fields"
   ]
  },
  {
   "cell_type": "code",
   "execution_count": 87,
   "metadata": {},
   "outputs": [
    {
     "name": "stdout",
     "output_type": "stream",
     "text": [
      "Columns deleted successfully.\n"
     ]
    }
   ],
   "source": [
    "# Specify the input shapefile path\n",
    "fields_to_keep = [\"FID\",\"SEGID\", \"PLANAREA\", \"SUBAREAID\", \"CO_FIPS\", \"DISTANCE\", \"FAC_WDABG\",\"Shape\"]\n",
    "finalShp = r'Merged_Segments_Final.shp'\n",
    "\n",
    "try:\n",
    "    # Copy the input shapefile to the output shapefile\n",
    "    arcpy.management.CopyFeatures(joinShp, finalShp)\n",
    "\n",
    "    # Delete unwanted fields from the copied shapefile\n",
    "    fields_to_delete = [field.name for field in arcpy.ListFields(finalShp) if field.name not in fields_to_keep]\n",
    "    arcpy.management.DeleteField(finalShp, fields_to_delete)\n",
    "\n",
    "    # Optionally, rename the copied shapefile to the original shapefile name if needed\n",
    "    # arcpy.management.Rename(output_shapefile, input_shapefile)\n",
    "\n",
    "    print(\"Columns deleted successfully.\")\n",
    "except arcpy.ExecuteError:\n",
    "    print(arcpy.GetMessages(2))\n",
    "except Exception as e:\n",
    "    print(str(e))"
   ]
  },
  {
   "cell_type": "code",
   "execution_count": null,
   "metadata": {},
   "outputs": [],
   "source": []
  },
  {
   "cell_type": "code",
   "execution_count": null,
   "metadata": {},
   "outputs": [],
   "source": []
  },
  {
   "cell_type": "code",
   "execution_count": null,
   "metadata": {},
   "outputs": [],
   "source": []
  }
 ],
 "metadata": {
  "kernelspec": {
   "display_name": "ArcGISPro",
   "language": "Python",
   "name": "python3"
  },
  "language_info": {
   "file_extension": ".py",
   "name": "python",
   "version": "3"
  }
 },
 "nbformat": 4,
 "nbformat_minor": 2
}
