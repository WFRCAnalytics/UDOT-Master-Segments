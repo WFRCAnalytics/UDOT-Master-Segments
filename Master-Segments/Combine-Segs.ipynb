{
 "cells": [
  {
   "cell_type": "code",
   "execution_count": 30,
   "metadata": {},
   "outputs": [],
   "source": [
    "import pandas as pd\n",
    "#import matplotlib.ticker as mtick\n",
    "import numpy as np\n",
    "import arcpy\n",
    "from arcgis.gis import *\n",
    "import datetime\n",
    "gis = GIS()"
   ]
  },
  {
   "cell_type": "markdown",
   "metadata": {},
   "source": [
    "## Check Subareas"
   ]
  },
  {
   "cell_type": "code",
   "execution_count": 10,
   "metadata": {},
   "outputs": [
    {
     "data": {
      "text/html": [
       "<div class='gpresult'><h2>Messages</h2><div id='messages' data-messages='[\"Start Time: Thursday, September 21, 2023 7:43:40 AM\",\"Succeeded at Thursday, September 21, 2023 7:43:40 AM (Elapsed Time: 0.03 seconds)\"]' data-show='true'><div id = 'default' /></div></div>"
      ],
      "text/plain": [
       "<Result '../data/5_IronCo - v1.0 - 2023-09-13_DRAFT/Segments_IR_20230912b/Segments_IR_20230912c.shp'>"
      ]
     },
     "execution_count": 10,
     "metadata": {},
     "output_type": "execute_result"
    }
   ],
   "source": [
    "# Here, we visually inspect if all the shapefiles meet the following criteria\n",
    "## 1. The shapefile only includes those segments whose centroid falls within the corresponding subarea\n",
    "## 2. A SUBAREAID column exists\n",
    "\n",
    "# The IronCo Segment file does not include a SUBAREAID column, so we add one: \n",
    "input_shapefile = r'../data/5_IronCo - v1.0 - 2023-09-13_DRAFT/Segments_IR_20230912b/Segments_IR_20230912b.shp'\n",
    "output_shapefile = input_shapefile.replace('b.shp', 'c.shp')\n",
    "\n",
    "arcpy.management.CopyFeatures(input_shapefile, output_shapefile)\n",
    "arcpy.management.AddField(output_shapefile, \"SUBAREAID\", \"SHORT\")\n",
    "arcpy.management.CalculateField(output_shapefile, \"SUBAREAID\", 5)"
   ]
  },
  {
   "cell_type": "markdown",
   "metadata": {},
   "source": [
    "## Set Filepaths"
   ]
  },
  {
   "cell_type": "code",
   "execution_count": 31,
   "metadata": {},
   "outputs": [],
   "source": [
    "# Set the workspace environment to the folder where the output shapefile will be stored\n",
    "arcpy.env.workspace = 'D:/GitHub/UDOT-Master-Segments/outputs/'\n",
    "\n",
    "# Output merged shapefile path\n",
    "joinShp = 'Merged_Segments.shp'\n",
    "\n",
    "# List of input shapefile paths\n",
    "shpPaths = [\n",
    "    '../data/0_USTM_v3.0 - 2023-08-17_DRAFT/Segments_UD_20230729/Segments_UD_20220729b.shp',\n",
    "    '../data/1_WF/Segments_WF_20230919/Segments_WF_20230919.shp',\n",
    "    '../data/2_Cache/Segments_CA_20230302/Segments_CA_20230302.shp',\n",
    "    '../data/3_Dixie/Segments_DX_20220915b/Segments_DX_20220915b.shp',\n",
    "    '../data/4_SuWsv2_2023-09-13_DRAFT/Segments_SW_20230913/Segments_SW_20230913.shp',\n",
    "    '../data/5_IronCo - v1.0 - 2023-09-13_DRAFT/Segments_IR_20230912b/Segments_IR_20230912c.shp'\n",
    "]"
   ]
  },
  {
   "cell_type": "markdown",
   "metadata": {},
   "source": [
    "## Merge Segments"
   ]
  },
  {
   "cell_type": "code",
   "execution_count": 37,
   "metadata": {},
   "outputs": [
    {
     "data": {
      "text/html": [
       "<div class='gpresult'><h2>Messages</h2><div id='messages' data-messages='[\"Start Time: Thursday, September 21, 2023 8:02:54 AM\",\"Succeeded at Thursday, September 21, 2023 8:02:56 AM (Elapsed Time: 1.80 seconds)\"]' data-show='true'><div id = 'default' /></div></div>"
      ],
      "text/plain": [
       "<Result 'D:/GitHub/UDOT-Master-Segments/outputs\\\\Merged_Segments.shp'>"
      ]
     },
     "execution_count": 37,
     "metadata": {},
     "output_type": "execute_result"
    }
   ],
   "source": [
    "# Use arcpy.management.Merge with FieldMappings to merge the shapefiles\n",
    "fieldMappings = arcpy.FieldMappings()\n",
    "fieldMappings.mergeRule = 'Join'\n",
    "arcpy.management.Merge(shpPaths, joinShp, fieldMappings)"
   ]
  },
  {
   "cell_type": "markdown",
   "metadata": {},
   "source": [
    "## Check CRS"
   ]
  },
  {
   "cell_type": "code",
   "execution_count": 13,
   "metadata": {},
   "outputs": [
    {
     "name": "stdout",
     "output_type": "stream",
     "text": [
      "Coordinate System: NAD_1983_UTM_Zone_12N\n"
     ]
    }
   ],
   "source": [
    "try:\n",
    "    # Use arcpy.Describe to get information about the shapefile\n",
    "    desc = arcpy.Describe(joinShp)\n",
    "    \n",
    "    # Check if the shapefile has a spatial reference (projection)\n",
    "    if desc.spatialReference is not None:\n",
    "        # Get the name of the coordinate system\n",
    "        coordinate_system_name = desc.spatialReference.name\n",
    "        \n",
    "        # Print the coordinate system information\n",
    "        print(f\"Coordinate System: {coordinate_system_name}\")\n",
    "    else:\n",
    "        print(\"The shapefile does not have a defined coordinate system.\")\n",
    "except arcpy.ExecuteError:\n",
    "    print(arcpy.GetMessages(2))\n",
    "except Exception as e:\n",
    "    print(str(e))"
   ]
  },
  {
   "cell_type": "markdown",
   "metadata": {},
   "source": [
    "## Check for Duplicates"
   ]
  },
  {
   "cell_type": "code",
   "execution_count": 14,
   "metadata": {},
   "outputs": [
    {
     "name": "stdout",
     "output_type": "stream",
     "text": [
      "No duplicate SEGIDs found in Merged_Segments.shp.\n"
     ]
    }
   ],
   "source": [
    "# Create a set to store unique SEGID values\n",
    "uniqueSegIDs = set()\n",
    "\n",
    "# Create a list to store duplicate SEGID values\n",
    "duplicateSegIDs = []\n",
    "\n",
    "# Use a SearchCursor to iterate through the SEGID field\n",
    "with arcpy.da.SearchCursor(joinShp, ['SEGID']) as cursor:\n",
    "    for row in cursor:\n",
    "        segid = row[0]\n",
    "        if segid in uniqueSegIDs:\n",
    "            duplicateSegIDs.append(segid)\n",
    "        else:\n",
    "            uniqueSegIDs.add(segid)\n",
    "\n",
    "# Check if there are any duplicate SEGIDs\n",
    "if len(duplicateSegIDs) > 0:\n",
    "    print(\"Duplicate SEGIDs found in Merged_Segments.shp:\")\n",
    "    for segid in duplicateSegIDs:\n",
    "        print(segid)\n",
    "else:\n",
    "    print(\"No duplicate SEGIDs found in Merged_Segments.shp.\")"
   ]
  },
  {
   "cell_type": "markdown",
   "metadata": {},
   "source": [
    "## Selecting Necessary Fields"
   ]
  },
  {
   "cell_type": "code",
   "execution_count": 38,
   "metadata": {},
   "outputs": [
    {
     "name": "stdout",
     "output_type": "stream",
     "text": [
      "Columns deleted successfully.\n"
     ]
    }
   ],
   "source": [
    "# Specify the input shapefile path\n",
    "fields_to_keep = ['FID', 'Shape', 'SEGID', 'BMP', 'EMP', 'DISTANCE', 'CO_FIPS', 'PLANAREA', 'SUBAREAID', 'FAC_WDAVG']\n",
    "inputShp = r'D:/GitHub/UDOT-Master-Segments/outputs/Merged_Segments.shp'\n",
    "\n",
    "try:\n",
    "    # Delete unwanted fields from the copied shapefile\n",
    "    fields_to_delete = [field.name for field in arcpy.ListFields(inputShp) if field.name not in fields_to_keep]\n",
    "    arcpy.management.DeleteField(inputShp, fields_to_delete)\n",
    "\n",
    "    print(\"Columns deleted successfully.\")\n",
    "except arcpy.ExecuteError:\n",
    "    print(arcpy.GetMessages(2))\n",
    "except Exception as e:\n",
    "    print(str(e))"
   ]
  },
  {
   "cell_type": "markdown",
   "metadata": {},
   "source": [
    "## Recalculate the DISTANCE Field"
   ]
  },
  {
   "cell_type": "code",
   "execution_count": 40,
   "metadata": {},
   "outputs": [
    {
     "name": "stdout",
     "output_type": "stream",
     "text": [
      "DISTANCE2 field calculated successfully.\n",
      "    DISTANCE\n",
      "0   0.666642\n",
      "1  15.369870\n",
      "2  30.002021\n",
      "3  14.194335\n",
      "4  17.323272\n"
     ]
    }
   ],
   "source": [
    "# Specify the input shapefile path\n",
    "inputShp = r'Merged_Segments.shp'\n",
    "\n",
    "# Specify the name of the new field\n",
    "distanceField = \"DISTANCE\"\n",
    "\n",
    "# Specify the output shapefile path\n",
    "outputShp = r'Final_Segments.shp'\n",
    "\n",
    "# Conversion factor from meters to miles with 8 decimal precision\n",
    "meters_to_miles = 0.000621371192\n",
    "\n",
    "try:\n",
    "      \n",
    "    # Copy the input shapefile to create a new output shapefile\n",
    "    arcpy.management.CopyFeatures(inputShp, outputShp)\n",
    "\n",
    "    # Create an update cursor to calculate the DISTANCE2 field\n",
    "    with arcpy.da.UpdateCursor(outputShp, ['SHAPE@', distanceField]) as cursor:\n",
    "        for row in cursor:\n",
    "            # Get the segment's geometry and calculate its length in meters\n",
    "            segment_geometry = row[0]\n",
    "            segment_length = segment_geometry.length * meters_to_miles\n",
    "\n",
    "            # Update the DISTANCE2 field with the calculated length in meters\n",
    "            row[1] = segment_length\n",
    "            cursor.updateRow(row)\n",
    "    \n",
    "    # print statements for checking\n",
    "    print(f\"{newField} field calculated successfully.\")\n",
    "    df = pd.DataFrame.spatial.from_featureclass(outputShp)\n",
    "    print(df[['DISTANCE']].head(5))\n",
    "            \n",
    "    # Delete Merged_Segments\n",
    "    #arcpy.management.Delete(inputShp)\n",
    "    \n",
    "except arcpy.ExecuteError:\n",
    "    print(arcpy.GetMessages(2))\n",
    "except Exception as e:\n",
    "    print(str(e))"
   ]
  }
 ],
 "metadata": {
  "kernelspec": {
   "display_name": "ArcGISPro",
   "language": "Python",
   "name": "python3"
  },
  "language_info": {
   "file_extension": ".py",
   "name": "python",
   "version": "3"
  }
 },
 "nbformat": 4,
 "nbformat_minor": 2
}
